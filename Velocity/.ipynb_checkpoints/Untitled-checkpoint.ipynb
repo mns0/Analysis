{
 "cells": [
  {
   "cell_type": "code",
   "execution_count": 20,
   "metadata": {
    "collapsed": true
   },
   "outputs": [],
   "source": [
    "import matplotlib\n",
    "from matplotlib.backends.backend_pgf import FigureCanvasPgf\n",
    "matplotlib.backend_bases.register_backend('pdf', FigureCanvasPgf)\n",
    "\n",
    "import matplotlib.pyplot as plt\n",
    "import matplotlib as mpl\n",
    "import numpy as np\n",
    "import  glob as glob\n",
    "import seaborn as sns\n",
    "sns.set()\n",
    "sns.set_style('whitegrid')\n",
    "sns.set_context('poster', font_scale=2)\n",
    "mpl.rcParams['axes.linewidth'] = 2.0\n",
    "mpl.rcParams['axes.edgecolor'] = 'black'\n"
   ]
  },
  {
   "cell_type": "code",
   "execution_count": null,
   "metadata": {
    "collapsed": false
   },
   "outputs": [],
   "source": [
    "binTime = 5 #ns\n",
    "directions = [\"-y\"]\n",
    "lengths = [10,20,30,40] \n",
    "fig, ax = plt.subplots()\n",
    "for idx, d in enumerate(directions):\n",
    "    vels_avg_dir = []\n",
    "    vels_std_dir = []\n",
    "    for length in lengths:\n",
    "        time, y, x , z = np.loadtxt('CFSMD_POLYLENGTH_unwrapped_pos_' + str(length) + '_' + d + \".txt\", unpack=True)\n",
    "        pos = y\n",
    "        if dir == 'x':\n",
    "            pos = x\n",
    "        #ax[idx].plot(time, y, label=str(length))\n",
    "        vel, std = calcVel2(time,pos,binTime)\n",
    "        vels_avg_dir.append(vel)\n",
    "        vels_std_dir.append(std)\n",
    "    print(d, vels_avg_dir)\n",
    "    ax.plot(lengths,vels_avg_dir)\n",
    "    ax.errorbar(lengths,vels_avg_dir, yerr=vels_std_dir)"
   ]
  },
  {
   "cell_type": "code",
   "execution_count": 59,
   "metadata": {
    "collapsed": true
   },
   "outputs": [],
   "source": [
    "def calcVel(time,pos,bins):\n",
    "    posChunked  = zip( *[iter(pos)] * totalBins)\n",
    "    timeChunked = zip( *[iter(time)] * totalBins)\n",
    "    posDiffChunked = []\n",
    "    timeDiffChunked = []\n",
    "    for seg in posChunked:\n",
    "        posDiffChunked.append(np.diff(seg))\n",
    "    for seg in timeChunked:\n",
    "        timeDiffChunked.append(np.diff(seg))\n",
    "    velActual = np.array(posDiffChunked)/np.array(timeDiffChunked)\n",
    "    velAverageBin = np.mean(velActual,axis=1,dtype=np.float64)\n",
    "    velAverage = np.mean(velAverageBin,axis=0,dtype=np.float64)\n",
    "    velSD = np.std(velAverageBin,axis=0,dtype=np.float64)\n",
    "    return(velAverage,velSD)\n",
    "\n",
    "    "
   ]
  },
  {
   "cell_type": "code",
   "execution_count": null,
   "metadata": {
    "collapsed": false
   },
   "outputs": [],
   "source": [
    "plt.legend(loc='upper right')\n",
    "plt.show()"
   ]
  },
  {
   "cell_type": "code",
   "execution_count": 48,
   "metadata": {
    "collapsed": false
   },
   "outputs": [],
   "source": [
    "binTime = 5 #ns\n",
    "def calcVel2(time,data,binTime):\n",
    "#time, pos, x , z= np.loadtxt(\"CFSMD_POLYLENGTH_unwrapped_pos_30_-y.txt\", unpack=True)\n",
    "    ns_per_ele = (time[-1] - time[0] )/len(time)\n",
    "    totalBins = int(np.floor(binTime / ns_per_ele))\n",
    "    posChunked  = zip( *[iter(pos)] * totalBins)\n",
    "    timeChunked = zip( *[iter(time)] * totalBins)\n",
    "    vels = []\n",
    "    for idx, i in enumerate(posChunked):\n",
    "        dx = abs(i[-1] - i[0]) \n",
    "        dt = timeChunked[idx][-1] - timeChunked[idx][0]\n",
    "        vels.append(dx/dt)\n",
    "    avg = np.mean(vels)\n",
    "    std = np.std(vels)\n",
    "    return (avg, std)"
   ]
  },
  {
   "cell_type": "code",
   "execution_count": null,
   "metadata": {
    "collapsed": true
   },
   "outputs": [],
   "source": []
  }
 ],
 "metadata": {
  "kernelspec": {
   "display_name": "Python 2",
   "language": "python",
   "name": "python2"
  },
  "language_info": {
   "codemirror_mode": {
    "name": "ipython",
    "version": 2
   },
   "file_extension": ".py",
   "mimetype": "text/x-python",
   "name": "python",
   "nbconvert_exporter": "python",
   "pygments_lexer": "ipython2",
   "version": "2.7.11"
  }
 },
 "nbformat": 4,
 "nbformat_minor": 2
}
